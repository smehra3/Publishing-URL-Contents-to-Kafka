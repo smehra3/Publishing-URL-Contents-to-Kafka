{
 "cells": [
  {
   "cell_type": "markdown",
   "metadata": {},
   "source": [
    "# Publishing Messages from contents of the URL to Kafka"
   ]
  },
  {
   "cell_type": "markdown",
   "metadata": {},
   "source": [
    "[Apache Kafka](https://kafka.apache.org/) is an open-source distributed event streaming platform used by thousands of companies for high-performance data pipelines, streaming analytics, data integration, and mission-critical applications.\n",
    "\n",
    "This notebook is a walkthrough in publishing contents of a URL to Kafka."
   ]
  },
  {
   "cell_type": "markdown",
   "metadata": {},
   "source": [
    "**Step 1:** Read the contents of the URL into a json file using the following command. \n",
    "\n",
    "Curl is a command for getting or sending data using URL syntax, using any of the supported protocols. Some of the supported protocol are HTTP, HTTPS, FTP, IMAP, POP3, SCP, SFTP, SMTP, TFTP, TELNET, LDAP or FILE.\n",
    "\n",
    "We add the options: \n",
    "\n",
    "* -L (valid for HTTP and HTTPS) to be able make curl redo the request on the new place if the server reports that the requested page  has  moved  to  a  different  location (indicated  with  a Location: header and a 3XX response code). If used together with -i, --include or  -I,  --head,  headers  from  all requested pages will be shown. When authentication is used, curl only sends its credentials to the initial host. If a redirect takes curl to a different host, it won't  be  able  to  intercept  the user+password.  You can limit the amount of redirects to follow by using the --max-redirs option.\n",
    "\n",
    "* -o assessment-attempts-nested.json to write  output  to this file instead of stdout\n",
    "\n",
    "Then we provided https://goo.gl/ME6hjp, the URL we want to receive data from. "
   ]
  },
  {
   "cell_type": "code",
   "execution_count": null,
   "metadata": {},
   "outputs": [],
   "source": [
    "curl -L -o assessment-attempts-nested.json https://goo.gl/ME6hjp"
   ]
  },
  {
   "cell_type": "code",
   "execution_count": null,
   "metadata": {},
   "outputs": [],
   "source": [
    "  % Total    % Received % Xferd  Average Speed   Time    Time     Time  Current\n",
    "                                 Dload  Upload   Total   Spent    Left  Speed\n",
    "  0     0    0     0    0     0      0      0 --:--:-- --:--:-- --:--:--     0\n",
    "100 9096k  100 9096k    0     0  14.6M      0 --:--:-- --:--:-- --:--:-- 14.6M"
   ]
  },
  {
   "cell_type": "markdown",
   "metadata": {},
   "source": [
    "**Step 2:** Use jq to modify the way we read in the json file we populated with the output of curl in step 1 and test that with cat.\n",
    "\n",
    "The cat command concatenates files and prints on the standard output.\n",
    "\n",
    "We provide the file(s) name(s) we want to concatenate, or standard input, to standard output. With no FILE, or when FILE is -, it reads standard input.\n",
    "\n",
    "The | (pipe) allows the standard output of command 1 (the command before the |) to be the standard input for command 2 (the command after the |). So our concatenate result acts as an input to jq '.'\n",
    "\n",
    "jq is a lightweight and flexible command-line JSON processor. It lets you slice and filter and map and transform structured data with ease. ‘.[]’ unrolls the array and pulls out index in the array as a line/row and the -c preserves the color from jq formatting. So the  jq '.[]' -c allows us to separate out each index in the array of the json into a new line and preserve the color of the formatting provided by jq. "
   ]
  },
  {
   "cell_type": "code",
   "execution_count": null,
   "metadata": {},
   "outputs": [],
   "source": [
    "cat assessment-attempts-nested.json | jq '.[]' -c"
   ]
  },
  {
   "cell_type": "markdown",
   "metadata": {},
   "source": [
    "**Step 3:** To see how many lines (which will be how many messages we publish to kafka) result from our command in step 2. \n",
    "\n",
    "Adding | wc -l lets us take our standard output from the command in Step 2 which is the jq formatted and extracted lines from array json to the next command as input. The next command is wc -l. wc prints the newline count because the -l provided as an option that specifies newline.  "
   ]
  },
  {
   "cell_type": "code",
   "execution_count": null,
   "metadata": {},
   "outputs": [],
   "source": [
    "cat assessment-attempts-nested.json  | jq '.[]' -c | wc -l"
   ]
  },
  {
   "cell_type": "code",
   "execution_count": null,
   "metadata": {},
   "outputs": [],
   "source": [
    "3280"
   ]
  },
  {
   "cell_type": "markdown",
   "metadata": {},
   "source": [
    "**Step 4:** Viewing one line of the json\n",
    "\n",
    "Adding | tail -1 to the end lets us take our standard output from the command in Step 2 which is the jq formatted and extracted lines from array json to the next command as input. The next command is tail -1 prints the last line of the file. "
   ]
  },
  {
   "cell_type": "code",
   "execution_count": null,
   "metadata": {},
   "outputs": [],
   "source": [
    "cat assessment-attempts-nested.json  | jq '.[]' -c | tail -1"
   ]
  },
  {
   "cell_type": "code",
   "execution_count": null,
   "metadata": {
    "jupyter": {
     "source_hidden": true
    }
   },
   "outputs": [],
   "source": [
    "{\"keen_timestamp\":\"1513766386.5845051\",\"max_attempts\":\"1.0\",\"started_at\":\"2017-12-20T10:38:26.490Z\",\"base_exam_id\":\"a62e5d35-75e9-11e6-8197-9801a7c3b233\",\"user_exam_id\":\"3a1d33b9-b79c-42b3-99a8-1ce4a4291bf2\",\"sequences\":{\"questions\":[{\"user_incomplete\":false,\"user_correct\":true,\"options\":[{\"checked\":true,\"at\":\"2017-12-20T10:38:29.540Z\",\"id\":\"a8b3951b-d1e1-4fa7-94cb-0a0415be1573\",\"submitted\":1,\"correct\":true},{\"checked\":false,\"id\":\"f026267d-1997-48a3-9021-5c27fb743f3b\"},{\"checked\":false,\"id\":\"72f87cf2-b723-4a02-b5b6-538278349eab\"},{\"checked\":false,\"id\":\"b64ddac5-5ac6-431a-b73d-c7388c760b85\"}],\"user_submitted\":true,\"id\":\"ff4fd2c3-d00d-4fee-b783-f1a6091f61f9\",\"user_result\":\"correct\"},{\"user_incomplete\":false,\"user_correct\":true,\"options\":[{\"checked\":false,\"id\":\"2b4176a1-3492-42e8-b4fe-433d27b9662a\"},{\"checked\":false,\"id\":\"7ab55774-61bf-43f4-8a35-764d02a83c8b\"},{\"checked\":false,\"id\":\"e82d47d4-6498-41e4-8dce-5e78ea17cf5b\"},{\"checked\":true,\"at\":\"2017-12-20T10:38:31.451Z\",\"id\":\"97864885-ce7e-4a12-b129-b8d2c6f80928\",\"submitted\":1,\"correct\":true}],\"user_submitted\":true,\"id\":\"02fa4d4d-f0e8-4e6b-997c-3b823acef6bb\",\"user_result\":\"correct\"},{\"user_incomplete\":false,\"user_correct\":true,\"options\":[{\"checked\":false,\"id\":\"41877b0a-ee7b-4d3d-8c89-6f5826e79fda\"},{\"checked\":false,\"id\":\"e7f1863a-a78d-4f29-8ac7-1d3012477eae\"},{\"checked\":false,\"id\":\"45c437e7-4e95-42aa-b83a-b09acef38b6d\"},{\"checked\":true,\"at\":\"2017-12-20T10:38:39.047Z\",\"id\":\"5a6dbb51-692b-4914-a620-afe6af303916\",\"submitted\":1,\"correct\":true}],\"user_submitted\":true,\"id\":\"9c08dc92-611f-4211-a290-956c316d7291\",\"user_result\":\"correct\"},{\"user_incomplete\":false,\"user_correct\":true,\"options\":[{\"checked\":false,\"id\":\"4715b39d-0a3a-42d3-893a-494ceb935e6c\"},{\"checked\":false,\"id\":\"2b394228-a8b5-4b10-87c9-53f90b42c6f1\"},{\"checked\":true,\"at\":\"2017-12-20T10:38:52.610Z\",\"id\":\"e8e0558f-a379-4e30-b615-128c1ea43423\",\"submitted\":1,\"correct\":true}],\"user_submitted\":true,\"id\":\"d202ad94-17a2-404d-b0de-8a8fd43e9b8c\",\"user_result\":\"correct\"},{\"user_incomplete\":false,\"user_correct\":true,\"options\":[{\"checked\":false,\"id\":\"a970d87f-afc4-4e0f-a84d-edc8ae1d82f0\"},{\"checked\":false,\"id\":\"fbdba43b-3986-434d-b9b9-353530d54c18\"},{\"checked\":true,\"at\":\"2017-12-20T10:38:56.685Z\",\"id\":\"9e93bcac-b886-413c-b406-109c3bbed4ed\",\"submitted\":1,\"correct\":true},{\"checked\":true,\"at\":\"2017-12-20T10:38:57.399Z\",\"id\":\"f15e504b-67f3-4c83-9860-53f91174658d\",\"submitted\":1,\"correct\":true}],\"user_submitted\":true,\"id\":\"68e2ea30-6e5f-4d9a-b044-3ed5e53dca3e\",\"user_result\":\"correct\"},{\"user_incomplete\":false,\"user_correct\":true,\"options\":[{\"checked\":false,\"id\":\"5a4c78cc-0239-44b6-b871-dd8e47f9b826\"},{\"checked\":true,\"at\":\"2017-12-20T10:39:04.501Z\",\"id\":\"fa6a8c7e-7d11-4b72-9214-9e0d139789a7\",\"submitted\":1,\"correct\":true},{\"checked\":false,\"id\":\"035db32c-8feb-4a6c-a1f7-68f5156a6d8c\"},{\"checked\":true,\"at\":\"2017-12-20T10:39:06.721Z\",\"id\":\"52209cb9-c7a1-49b7-aba3-d49e229f4479\",\"submitted\":1,\"correct\":true},{\"checked\":false,\"id\":\"3a57fcba-070f-4f9c-9c69-a398ce32366f\"},{\"checked\":true,\"at\":\"2017-12-20T10:39:09.877Z\",\"id\":\"13f07602-478b-4acb-b2b1-d219a8fddc9a\",\"submitted\":1,\"correct\":true}],\"user_submitted\":true,\"id\":\"4d5cf201-976d-4da8-8c34-e6e06dc426cf\",\"user_result\":\"correct\"},{\"user_incomplete\":false,\"user_correct\":false,\"options\":[{\"checked\":true,\"at\":\"2017-12-20T10:39:36.052Z\",\"id\":\"11bde835-5ab0-4694-b05b-8fdf67206a5f\",\"submitted\":1,\"correct\":true},{\"checked\":false,\"at\":\"2017-12-20T10:39:35.112Z\",\"id\":\"e6e5abdd-98a0-487b-a8da-0fbf3125a023\"},{\"checked\":false,\"correct\":true,\"id\":\"18f0c4ba-89de-474b-8e3b-b220a663f43a\"},{\"checked\":true,\"at\":\"2017-12-20T10:39:27.147Z\",\"id\":\"634020ce-f232-4ee3-859b-f5e87e21857b\",\"submitted\":1}],\"user_submitted\":true,\"id\":\"6a776eb4-b26d-4ba9-a41f-37153086bba8\",\"user_result\":\"incorrect\"},{\"user_incomplete\":false,\"user_correct\":false,\"options\":[{\"checked\":true,\"at\":\"2017-12-20T10:39:30.695Z\",\"id\":\"c4ec70ac-0407-4dda-ace7-2cf751d76464\",\"submitted\":1,\"correct\":true},{\"checked\":false,\"id\":\"dbca7b8a-a4fd-4a75-8221-6c236e14a86b\"},{\"checked\":true,\"at\":\"2017-12-20T10:39:42.412Z\",\"id\":\"a3b69e1d-b7c2-4efd-a822-30adf80a5ac3\",\"submitted\":1},{\"checked\":false,\"correct\":true,\"id\":\"5ee97047-af1c-4206-a3b8-af34675e2fea\"}],\"user_submitted\":true,\"id\":\"1ebe9acf-617c-44d3-8c23-e5815ab108bf\",\"user_result\":\"incorrect\"}],\"attempt\":1,\"id\":\"7948e155-ffbb-4179-84af-7e358767a750\",\"counts\":{\"incomplete\":0,\"submitted\":8,\"incorrect\":2,\"all_correct\":false,\"correct\":6,\"total\":8,\"unanswered\":0}},\"keen_created_at\":\"1513766386.5845051\",\"certification\":\"false\",\"keen_id\":\"5a3a3df2448eb200012a2efd\",\"exam_name\":\"Learning Linux System Administration\"}"
   ]
  },
  {
   "cell_type": "markdown",
   "metadata": {},
   "source": [
    "**Step 5:** Here we take what we got in Step 2 and publish that into the kafka topic 'assessment-attempts'.\n",
    "\n",
    "docker-compose exec runs a command in the container whose name is provided. \n",
    "\n",
    "Here, we use it to run a command on the mids container (defined in the docker-compose file - the description of which is provided in Section 1 of the report).\n",
    "\n",
    "The command we run is bash -c \"cat assessment-attempts-nested.json | jq '.[]' -c | kafkacat -P -b kafka:29092 -t assessment-attempts && echo 'Produced 3280 messages.'\" \n",
    "\n",
    "* bash is to launch a shell in the container\n",
    "* -c is an option to be able to read commands from the following string\n",
    "* The string following first concatenates the contents of the file assessment-attempts-nested.json into standard output.\n",
    "* It then passes the standard output from that as standard input into the next command: jq '.[]' -c which gets all the contents of the output (formatted like json) and extracts out each index of the array into a new line.\n",
    "* The standard output of that is then passed as standard input to the next command: kafkacat -P -b kafka:29092 -t assessment-attempts && echo 'Produced 3280 messages.'\"\n",
    "    * kafkacat -P mentions to launch the utility in producer mode. In this, kafkacat reads messages from standard input (stdin). \n",
    "    * -b kafka:29092 is used to specify the kafka broker, the name of which is just kafka with the host - both of which are configured in the docker-compose.yml\n",
    "    * -t assessment-attempts is used to specify the topic name that we want to publish to\n",
    "    * && is used to list a command that we want to execute after the one before it has successfully completed execution\n",
    "    * echo 'Produced 3280 messages.' is a message we want to display if the previous command of publishing to kafka has been successfully executed. We knew 3280 from Step 3."
   ]
  },
  {
   "cell_type": "code",
   "execution_count": null,
   "metadata": {},
   "outputs": [],
   "source": [
    "docker-compose exec mids bash -c \"cat /w205/project-2-smehra3/assessment-attempts-20180128-121051-nested.json | jq '.[]' -c | kafkacat -P -b kafka:29092 -t assessment-attempts && echo 'Produced 3280 messages.'\""
   ]
  },
  {
   "cell_type": "code",
   "execution_count": null,
   "metadata": {},
   "outputs": [],
   "source": [
    "Produced 3280 messages."
   ]
  }
 ],
 "metadata": {
  "environment": {
   "name": "tf2-2-3-gpu.2-3.m55",
   "type": "gcloud",
   "uri": "gcr.io/deeplearning-platform-release/tf2-2-3-gpu.2-3:m55"
  },
  "kernelspec": {
   "display_name": "Python 3",
   "language": "python",
   "name": "python3"
  },
  "language_info": {
   "codemirror_mode": {
    "name": "ipython",
    "version": 3
   },
   "file_extension": ".py",
   "mimetype": "text/x-python",
   "name": "python",
   "nbconvert_exporter": "python",
   "pygments_lexer": "ipython3",
   "version": "3.7.8"
  }
 },
 "nbformat": 4,
 "nbformat_minor": 4
}
